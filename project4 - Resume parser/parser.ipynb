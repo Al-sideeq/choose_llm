{
 "cells": [
  {
   "cell_type": "markdown",
   "id": "ea0e59ce-09f2-40d6-a614-19af338f21cf",
   "metadata": {},
   "source": [
    "## Project 1: Resume Parser\n",
    "\n",
    "### A simple example of a commercial use case: parsing and summarizing a resume\n",
    "\n",
    "This directory includes a sample JSON file, along with a text version of my resume.\n",
    "\n",
    "We will be using a 'one shot prompt' style with OpenAI, and using Gradio to make a quick UI.\n",
    "\n",
    "(Reminder: I'll be stepping through this code at a high level to give you a general sense, so you can try this yourself afterwards.)"
   ]
  },
  {
   "cell_type": "code",
   "execution_count": null,
   "id": "472dedc7-38a6-4512-8128-3438978ec25f",
   "metadata": {},
   "outputs": [],
   "source": [
    "# imports\n",
    "\n",
    "import os\n",
    "from dotenv import load_dotenv\n",
    "import openai\n",
    "import json\n",
    "from openai import OpenAI"
   ]
  },
  {
   "cell_type": "code",
   "execution_count": null,
   "id": "56aacb93-12b9-457b-998b-99f803e50b4a",
   "metadata": {},
   "outputs": [],
   "source": [
    "# constants\n",
    "\n",
    "MODEL = \"gpt-4o\""
   ]
  },
  {
   "cell_type": "code",
   "execution_count": null,
   "id": "536c7fd1-a559-42a7-abd2-f6484a122431",
   "metadata": {},
   "outputs": [],
   "source": [
    "# Load environment variables in a file called .env\n",
    "\n",
    "load_dotenv()\n",
    "os.environ['OPENAI_API_KEY'] = os.getenv('OPENAI_API_KEY', 'your-key-if-not-using-env')"
   ]
  },
  {
   "cell_type": "code",
   "execution_count": null,
   "id": "5c5584dd-19d4-4c9f-83ef-58d947e82d74",
   "metadata": {},
   "outputs": [],
   "source": [
    "# Load sample HR-JSON file\n",
    "\n",
    "with open('sample.json', 'r') as f:\n",
    "    sample = f.read()"
   ]
  },
  {
   "cell_type": "code",
   "execution_count": null,
   "id": "c72a69f5-182b-417b-b486-916c547e6aaf",
   "metadata": {},
   "outputs": [],
   "source": [
    "# Also load my resume as an example\n",
    "\n",
    "with open('my_resume.txt', 'r') as f:\n",
    "    me = f.read()"
   ]
  },
  {
   "cell_type": "code",
   "execution_count": null,
   "id": "392c9d02-f21b-44e8-b006-a59c71425fc9",
   "metadata": {},
   "outputs": [],
   "source": [
    "# Create the OpenAI client\n",
    "\n",
    "client = OpenAI()"
   ]
  },
  {
   "cell_type": "code",
   "execution_count": null,
   "id": "e68f0329-e3c1-47ed-9979-d3d51eb76299",
   "metadata": {},
   "outputs": [],
   "source": [
    "# Create the prompt, comprising of system instructions, and a specific request\n",
    "\n",
    "instructions = f\"\"\"You are an assistant that can convert a resume in plain text precisely into the industry standard HR-JSON format.\n",
    "Here is an example of HR-JSON populated for a candidate.\n",
    "HR-JSON elements are optional, so if a section isn't populated in a resume, then it should be omitted in the HR-JSON.\n",
    "Example HR-JSON:\\n{sample}\"\"\"\n",
    "\n",
    "request = \"Please convert this resume to HR-JSON:\\n\""
   ]
  },
  {
   "cell_type": "code",
   "execution_count": null,
   "id": "004b413a-d425-4fb3-9858-35f4d538a705",
   "metadata": {},
   "outputs": [],
   "source": [
    "# Let's try it for my resume\n",
    "# Note the use of response_format to ensure JSON response\n",
    "# And the use of the stream=True to have the results flow back\n",
    "\n",
    "response = client.chat.completions.create(\n",
    "          model=MODEL,\n",
    "          messages=[\n",
    "            {\"role\": \"system\", \"content\": instructions},\n",
    "            {\"role\": \"user\", \"content\": request + me}\n",
    "          ],\n",
    "        response_format={ \"type\": \"json_object\" },\n",
    "        stream=True)\n",
    "\n",
    "for chunk in response:\n",
    "    delta = chunk.choices[0].delta.content or ''\n",
    "    print(delta, end='')"
   ]
  },
  {
   "cell_type": "code",
   "execution_count": null,
   "id": "f399ca33-2eb5-4358-8331-5d2b40b2d56a",
   "metadata": {},
   "outputs": [],
   "source": [
    "# Wrap this in a function (a generator)\n",
    "\n",
    "def parse(text_resume):\n",
    "    response = client.chat.completions.create(\n",
    "          model=MODEL,\n",
    "          messages=[\n",
    "            {\"role\": \"system\", \"content\": instructions},\n",
    "            {\"role\": \"user\", \"content\": request + text_resume}\n",
    "          ],\n",
    "        response_format={ \"type\": \"json_object\" },\n",
    "        stream=True\n",
    "        )\n",
    "    result = \"\"\n",
    "    for chunk in response:\n",
    "        result += chunk.choices[0].delta.content or \"\"\n",
    "        yield result"
   ]
  },
  {
   "cell_type": "code",
   "execution_count": null,
   "id": "36325f04-3648-4415-b0ee-6ce82c79f654",
   "metadata": {},
   "outputs": [],
   "source": [
    "# Bringing up a view in Gradio is incredibly easy!\n",
    "\n",
    "import gradio as gr\n",
    "\n",
    "view = gr.Interface(\n",
    "    fn=parse,\n",
    "    inputs=[gr.Textbox(label=\"Text Resume\", lines=10)],\n",
    "    outputs=[gr.Textbox(label=\"HR-JSON Resume\", lines=10)],\n",
    "    allow_flagging=\"never\"\n",
    ")\n",
    "\n",
    "view.launch()"
   ]
  },
  {
   "cell_type": "code",
   "execution_count": null,
   "id": "3f90f677-c6ed-4650-b731-6e2c59f2f820",
   "metadata": {},
   "outputs": [],
   "source": [
    "# A simple variation to generate a summary of this resume, a very common Gen AI use case\n",
    "\n",
    "summary_instructions = \"\"\"You are an assistant that can create a short summary of a candidate based on their resume.\n",
    "The summary should be 4-5 sentences long and capture their experience and education.\"\"\"\n",
    "\n",
    "summary_request = \"Please summarize this candidate based on their resume:\\n\""
   ]
  },
  {
   "cell_type": "code",
   "execution_count": null,
   "id": "7e03bb27-45b5-48da-b647-9fc50eb146df",
   "metadata": {},
   "outputs": [],
   "source": [
    "# Generate as before\n",
    "\n",
    "def summarize(text_resume):\n",
    "    response = client.chat.completions.create(\n",
    "          model=MODEL,\n",
    "          messages=[\n",
    "            {\"role\": \"system\", \"content\": summary_instructions},\n",
    "            {\"role\": \"user\", \"content\": summary_request + text_resume}\n",
    "          ],\n",
    "        stream=True\n",
    "        )\n",
    "    result = \"\"\n",
    "    for chunk in response:\n",
    "        result += chunk.choices[0].delta.content or \"\"\n",
    "        yield result"
   ]
  },
  {
   "cell_type": "code",
   "execution_count": null,
   "id": "0726883b-49fd-4529-aa03-6d9f3aee3943",
   "metadata": {},
   "outputs": [],
   "source": [
    "# And in Gradio again\n",
    "\n",
    "view = gr.Interface(\n",
    "    fn=summarize,\n",
    "    inputs=[gr.Textbox(label=\"Text Resume\", lines=10)],\n",
    "    outputs=[gr.Textbox(label=\"Summary\", lines=10)],\n",
    "    allow_flagging=\"never\"\n",
    ")\n",
    "\n",
    "view.launch()"
   ]
  },
  {
   "cell_type": "code",
   "execution_count": null,
   "id": "e281695d-ddee-4f57-a180-9c0dcc1ad197",
   "metadata": {},
   "outputs": [],
   "source": [
    "# One more example: write a cover letter\n",
    "\n",
    "instructions = \"\"\"You are an assistant that can write a short cover letter that a candidate can use when applying for a job.\n",
    "They will send the cover letter to the hiring manager, enclosing their resume\"\"\""
   ]
  },
  {
   "cell_type": "code",
   "execution_count": null,
   "id": "6e87f403-2020-4f4a-94ef-0c4253000443",
   "metadata": {},
   "outputs": [],
   "source": [
    "# Generate as before\n",
    "\n",
    "def cover(text_resume, text_job):\n",
    "    response = client.chat.completions.create(\n",
    "          model=MODEL,\n",
    "          messages=[\n",
    "            {\"role\": \"system\", \"content\": instructions},\n",
    "            {\"role\": \"user\", \"content\": f'Please write a cover letter for the following candidate, applying to the following job.\\nCandidate resume:\\n\\n{text_resume}\\n\\nJob description:\\n\\n{text_job}'}\n",
    "          ],\n",
    "        stream=True\n",
    "        )\n",
    "    result = \"\"\n",
    "    for chunk in response:\n",
    "        result += chunk.choices[0].delta.content or \"\"\n",
    "        yield result"
   ]
  },
  {
   "cell_type": "code",
   "execution_count": null,
   "id": "a79d3a1f-aeb4-44af-94b9-78af348be3ef",
   "metadata": {},
   "outputs": [],
   "source": [
    "# And in Gradio again\n",
    "\n",
    "view = gr.Interface(\n",
    "    fn=cover,\n",
    "    inputs=[gr.Textbox(label=\"Text Resume\", lines=5), gr.Textbox(label=\"Job Description\", lines=5)],\n",
    "    outputs=[gr.Textbox(label=\"Cover letter\", lines=20)],\n",
    "    allow_flagging=\"never\"\n",
    ")\n",
    "\n",
    "view.launch()"
   ]
  },
  {
   "cell_type": "markdown",
   "id": "bf4e89a0-2584-47de-a4ee-fb7c8afcdc22",
   "metadata": {},
   "source": [
    "## Splitting into multiple LLM calls - a light version of Agents\n",
    "\n",
    "I found the cover letter was quite verbose. I experimented with a different approach. Let's break this into 2 LLM calls; first summarize the candidate, then use the summary to generate the cover letter."
   ]
  },
  {
   "cell_type": "code",
   "execution_count": null,
   "id": "e24fac29-ff34-4f0b-b8ed-925009dd988e",
   "metadata": {},
   "outputs": [],
   "source": [
    "def summary_agent(text_resume):\n",
    "    response = client.chat.completions.create(\n",
    "          model=MODEL,\n",
    "          messages=[\n",
    "            {\"role\": \"system\", \"content\": summary_instructions},\n",
    "            {\"role\": \"user\", \"content\": summary_request + text_resume}\n",
    "          ])\n",
    "    return response.choices[0].message.content"
   ]
  },
  {
   "cell_type": "code",
   "execution_count": null,
   "id": "38ead582-f1b6-4e0b-9d1b-ab05bca0c8fb",
   "metadata": {},
   "outputs": [],
   "source": [
    "def cover_with_summary_agent(text_resume, text_job):\n",
    "    summary = summary_agent(text_resume)\n",
    "    response = client.chat.completions.create(\n",
    "          model=MODEL,\n",
    "          messages=[\n",
    "            {\"role\": \"system\", \"content\": instructions},\n",
    "            {\"role\": \"user\", \"content\": f'Please write a short cover letter for the following candidate, applying to the following job. Keep the cover letter to 2 paragraphs maximum.\\nCandidate summary:\\n\\n{summary}\\n\\nJob description:\\n\\n{text_job}'}\n",
    "          ],\n",
    "        stream=True\n",
    "        )\n",
    "    result = \"\"\n",
    "    for chunk in response:\n",
    "        result += chunk.choices[0].delta.content or \"\"\n",
    "        yield result"
   ]
  },
  {
   "cell_type": "code",
   "execution_count": null,
   "id": "5f066af2-3d0d-4be5-8f07-3bc706018cf6",
   "metadata": {},
   "outputs": [],
   "source": [
    "# And in Gradio again\n",
    "\n",
    "view = gr.Interface(\n",
    "    fn=cover_with_summary_agent,\n",
    "    inputs=[gr.Textbox(label=\"Text Resume\", lines=5), gr.Textbox(label=\"Job Description\", lines=5)],\n",
    "    outputs=[gr.Textbox(label=\"Cover letter\", lines=12)],\n",
    "    allow_flagging=\"never\"\n",
    ")\n",
    "\n",
    "view.launch()"
   ]
  },
  {
   "cell_type": "markdown",
   "id": "cdde3468-7947-45f6-9fd5-117df3dd3be3",
   "metadata": {},
   "source": [
    "# Further exercises\n",
    "\n",
    "1. In the original Resume Parser, try removing the one-shot example in the prompt. What happens?\n",
    "2. Try parsing your own resume!\n",
    "3. To be more robust, we would need to provide multiple examples in the prompt including a candidate and its JSON. Give this a try.\n",
    "4. OpenAI have recently announced the ability to specify a JSON schema to be used for the response. Find out about this and add it to the example! (And if you'd like to show me, please submit a PR so I can add it for the future!)"
   ]
  },
  {
   "cell_type": "code",
   "execution_count": null,
   "id": "f295bc40-dd5d-4cf7-acd6-b1344c72eaf0",
   "metadata": {},
   "outputs": [],
   "source": []
  }
 ],
 "metadata": {
  "kernelspec": {
   "display_name": "Python 3 (ipykernel)",
   "language": "python",
   "name": "python3"
  },
  "language_info": {
   "codemirror_mode": {
    "name": "ipython",
    "version": 3
   },
   "file_extension": ".py",
   "mimetype": "text/x-python",
   "name": "python",
   "nbconvert_exporter": "python",
   "pygments_lexer": "ipython3",
   "version": "3.10.2"
  }
 },
 "nbformat": 4,
 "nbformat_minor": 5
}
