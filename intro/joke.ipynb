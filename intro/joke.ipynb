{
 "cells": [
  {
   "cell_type": "markdown",
   "id": "70629249-1ff7-4638-8d44-5f07e67a071b",
   "metadata": {},
   "source": [
    "# The 2nd Way to call Frontier Models - via their APIs\n",
    "\n",
    "In this notebook, we'll explore calling 3 Frontier Models using their APIs.\n",
    "\n",
    "In the last experiment, we tried out a prompt that was ideally suited to LLMs. This time we will try something they're less good at - telling jokes. Let's see how they get on."
   ]
  },
  {
   "cell_type": "markdown",
   "id": "dac6d332-5739-4e66-9871-3bfeb42dfc94",
   "metadata": {},
   "source": [
    "## Setting up your keys\n",
    "\n",
    "If you haven't done so already, you'll need to create API keys from OpenAI, Anthropic and Google.\n",
    "\n",
    "For OpenAI, visit https://openai.com/api/\n",
    "For Anthropic, visit https://console.anthropic.com/\n",
    "For Google, visit https://ai.google.dev/gemini-api\n",
    "\n",
    "When you get your API keys, you need to set them as environment variables.\n",
    "\n",
    "EITHER (recommended) create a file called .env in this project root directory, and set your keys there:\n",
    "```\n",
    "OPENAI_API_KEY=xxxx\n",
    "ANTHROPIC_API_KEY=xxxx\n",
    "GOOGLE_API_KEY=xxxx\n",
    "````\n",
    "\n",
    "OR enter the keys directly in the cells below."
   ]
  },
  {
   "cell_type": "code",
   "execution_count": null,
   "id": "6d259d97-5061-43af-a641-3088c4df8106",
   "metadata": {},
   "outputs": [],
   "source": [
    "# imports\n",
    "\n",
    "import os\n",
    "from dotenv import load_dotenv\n",
    "from openai import OpenAI\n",
    "import google.generativeai\n",
    "import anthropic"
   ]
  },
  {
   "cell_type": "code",
   "execution_count": null,
   "id": "4c5f0ff9-75ff-4d81-81c7-c36a05511151",
   "metadata": {},
   "outputs": [],
   "source": [
    "# Load environment variables in a file called .env\n",
    "\n",
    "load_dotenv()\n",
    "os.environ['OPENAI_API_KEY'] = os.getenv('OPENAI_API_KEY', 'your-key-if-not-using-env')\n",
    "os.environ['ANTHROPIC_API_KEY'] = os.getenv('ANTHROPIC_API_KEY', 'your-key-if-not-using-env')\n",
    "os.environ['GOOGLE_API_KEY'] = os.getenv('GOOGLE_API_KEY', 'your-key-if-not-using-env')"
   ]
  },
  {
   "cell_type": "code",
   "execution_count": null,
   "id": "a9973031-b06f-4718-8884-dfa458707e7d",
   "metadata": {},
   "outputs": [],
   "source": [
    "# Connect to OpenAI, Anthropic and Google\n",
    "# All 3 APIs are similar\n",
    "\n",
    "gpt = OpenAI()\n",
    "\n",
    "claude = anthropic.Anthropic()\n",
    "\n",
    "google.generativeai.configure()\n",
    "gemini = google.generativeai.GenerativeModel('gemini-pro')"
   ]
  },
  {
   "cell_type": "markdown",
   "id": "748dd333-328c-4b3e-be58-a71b396fdc92",
   "metadata": {},
   "source": [
    "## Asking LLMs to tell a joke\n",
    "\n",
    "It turns out that LLMs don't do a great job of telling jokes! Let's compare a few models - let me know what you think in the chat.\n",
    "Later we will be putting LLMs to better use!\n",
    "\n",
    "### What information is included in the API\n",
    "\n",
    "Typically we'll pass to the LLM:\n",
    "- The name of the model that should be used\n",
    "- A system message that gives overall context for the role the LLM is playing\n",
    "- A user message that provides the actual prompt\n",
    "\n",
    "There are other parameters that can be used, including *temperature* which is between 0 and 2; higher for more random output; lower for more focused and deterministic.\n"
   ]
  },
  {
   "cell_type": "code",
   "execution_count": null,
   "id": "61a26c37-36a3-47d9-91ad-56c7c2489a96",
   "metadata": {},
   "outputs": [],
   "source": [
    "# GPT-3.5-Turbo\n",
    "\n",
    "completion = gpt.chat.completions.create(\n",
    "    model='gpt-3.5-turbo',\n",
    "    messages=[\n",
    "    {\"role\": \"system\", \"content\": \"You are an assistant that is great at telling jokes\"},\n",
    "    {\"role\": \"user\", \"content\": \"Tell a light joke for a room full of data scientists\"}\n",
    "  ],\n",
    "    temperature=1.0,\n",
    ")\n",
    "print(completion.choices[0].message.content)"
   ]
  },
  {
   "cell_type": "code",
   "execution_count": null,
   "id": "a66e6861-1b58-4779-b525-5925a9aea3b7",
   "metadata": {},
   "outputs": [],
   "source": [
    "# GPT-4-Turbo\n",
    "\n",
    "completion = gpt.chat.completions.create(\n",
    "    model='gpt-4-turbo',\n",
    "    messages=[\n",
    "    {\"role\": \"system\", \"content\": \"You are an assistant that is great at telling jokes\"},\n",
    "    {\"role\": \"user\", \"content\": \"Tell a light joke for a room full of data scientists\"}\n",
    "  ],\n",
    "    temperature=1.0\n",
    ")\n",
    "print(completion.choices[0].message.content)"
   ]
  },
  {
   "cell_type": "code",
   "execution_count": null,
   "id": "e5d6e3d5-394d-43e6-b911-ef9a437621eb",
   "metadata": {},
   "outputs": [],
   "source": [
    "# GPT-4o\n",
    "\n",
    "completion = gpt.chat.completions.create(\n",
    "    model='gpt-4o',\n",
    "    messages=[\n",
    "    {\"role\": \"system\", \"content\": \"You are an assistant that is great at telling jokes\"},\n",
    "    {\"role\": \"user\", \"content\": \"Tell a light joke for a room full of data scientists\"}\n",
    "  ],\n",
    "    temperature=1.0\n",
    ")\n",
    "print(completion.choices[0].message.content)"
   ]
  },
  {
   "cell_type": "code",
   "execution_count": null,
   "id": "c832443b-8051-426f-a787-05f6f65ec84a",
   "metadata": {},
   "outputs": [],
   "source": [
    "# Claude 3.5 Sonnet\n",
    "\n",
    "message = claude.messages.create(\n",
    "    model=\"claude-3-5-sonnet-20240620\",\n",
    "    max_tokens=200,\n",
    "    temperature=1.0,\n",
    "    system=\"You are an assistant that is great at telling jokes\",\n",
    "    messages=[\n",
    "        {\"role\": \"user\", \"content\": \"Tell a light joke for a room full of data scientists\"},\n",
    "    ],\n",
    ")\n",
    "\n",
    "print(message.content[0].text)"
   ]
  },
  {
   "cell_type": "code",
   "execution_count": null,
   "id": "fefdcb1e-8b5e-4239-b96c-278fd61c46bb",
   "metadata": {},
   "outputs": [],
   "source": [
    "# Gemini\n",
    "\n",
    "response = gemini.generate_content(\"Tell a light joke for a room full of data scientists\")\n",
    "print(response.text)"
   ]
  },
  {
   "cell_type": "code",
   "execution_count": null,
   "id": "bb6967eb-d026-4d26-8341-d8fb2a9034ae",
   "metadata": {},
   "outputs": [],
   "source": [
    "# To be serious! GPT-4o with the original question\n",
    "\n",
    "response = gpt.chat.completions.create(\n",
    "    model='gpt-4o',\n",
    "    messages=[\n",
    "    {\"role\": \"system\", \"content\": \"You are a helpful assistant\"},\n",
    "    {\"role\": \"user\", \"content\": \"How do I decide if a business problem is suitable for an LLM solution\"}\n",
    "  ],\n",
    "    temperature=1.0,\n",
    "    stream=True\n",
    ")\n",
    "\n",
    "for chunk in response:\n",
    "    delta = chunk.choices[0].delta.content or ''\n",
    "    print(delta, end='')"
   ]
  },
  {
   "cell_type": "markdown",
   "id": "3b79b8fb-6c38-4034-b154-0a3f79e0572b",
   "metadata": {},
   "source": [
    "## Recap: first we tried 6 Frontier LLMs through their chat interfaces\n",
    "## Then in this notebook we called Cloud APIs\n",
    "## Now try the 3rd way to use LLMs - direct inference - starting with llama.cpp"
   ]
  },
  {
   "cell_type": "code",
   "execution_count": null,
   "id": "d638ef6f-3a72-4520-bb0d-74989f3e837b",
   "metadata": {},
   "outputs": [],
   "source": []
  }
 ],
 "metadata": {
  "kernelspec": {
   "display_name": "Python 3 (ipykernel)",
   "language": "python",
   "name": "python3"
  },
  "language_info": {
   "codemirror_mode": {
    "name": "ipython",
    "version": 3
   },
   "file_extension": ".py",
   "mimetype": "text/x-python",
   "name": "python",
   "nbconvert_exporter": "python",
   "pygments_lexer": "ipython3",
   "version": "3.12.3"
  }
 },
 "nbformat": 4,
 "nbformat_minor": 5
}
