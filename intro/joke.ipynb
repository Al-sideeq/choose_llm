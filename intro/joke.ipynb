{
 "cells": [
  {
   "cell_type": "markdown",
   "id": "70629249-1ff7-4638-8d44-5f07e67a071b",
   "metadata": {},
   "source": [
    "# The 2nd Way to call Frontier Models - via their APIs\n",
    "\n",
    "In this notebook, we'll explore calling 3 Frontier Models using their APIs.\n",
    "\n",
    "In the last experiment, we tried out a prompt that was ideally suited to LLMs. This time we will try something they're less good at - telling jokes. Let's see how they get on."
   ]
  },
  {
   "cell_type": "markdown",
   "id": "dac6d332-5739-4e66-9871-3bfeb42dfc94",
   "metadata": {},
   "source": [
    "## Setting up your keys\n",
    "\n",
    "If you haven't done so already, you'll need to create API keys from OpenAI, Anthropic and Google.\n",
    "\n",
    "For OpenAI, visit https://openai.com/api/  \n",
    "For Anthropic, visit https://console.anthropic.com/  \n",
    "For Google, visit https://ai.google.dev/gemini-api  \n",
    "\n",
    "When you get your API keys, you need to set them as environment variables.\n",
    "\n",
    "EITHER (recommended) create a file called .env in this project root directory, and set your keys there:\n",
    "```\n",
    "OPENAI_API_KEY=xxxx\n",
    "ANTHROPIC_API_KEY=xxxx\n",
    "GOOGLE_API_KEY=xxxx\n",
    "````\n",
    "\n",
    "OR enter the keys directly in the cells below."
   ]
  },
  {
   "cell_type": "code",
   "execution_count": null,
   "id": "6d259d97-5061-43af-a641-3088c4df8106",
   "metadata": {},
   "outputs": [],
   "source": [
    "# imports\n",
    "\n",
    "import os\n",
    "from dotenv import load_dotenv\n",
    "from openai import OpenAI\n",
    "import google.generativeai\n",
    "import anthropic\n",
    "from IPython.display import Markdown, display, update_display"
   ]
  },
  {
   "cell_type": "code",
   "execution_count": null,
   "id": "4c5f0ff9-75ff-4d81-81c7-c36a05511151",
   "metadata": {},
   "outputs": [],
   "source": [
    "# Load environment variables in a file called .env\n",
    "\n",
    "load_dotenv()\n",
    "os.environ['OPENAI_API_KEY'] = os.getenv('OPENAI_API_KEY', 'your-key-if-not-using-env')\n",
    "os.environ['ANTHROPIC_API_KEY'] = os.getenv('ANTHROPIC_API_KEY', 'your-key-if-not-using-env')\n",
    "os.environ['GOOGLE_API_KEY'] = os.getenv('GOOGLE_API_KEY', 'your-key-if-not-using-env')"
   ]
  },
  {
   "cell_type": "code",
   "execution_count": null,
   "id": "a9973031-b06f-4718-8884-dfa458707e7d",
   "metadata": {},
   "outputs": [],
   "source": [
    "# Connect to OpenAI, Anthropic and Google\n",
    "# All 3 APIs are similar\n",
    "\n",
    "gpt = OpenAI()\n",
    "\n",
    "claude = anthropic.Anthropic()\n",
    "\n",
    "google.generativeai.configure()\n",
    "gemini = google.generativeai.GenerativeModel('gemini-pro')"
   ]
  },
  {
   "cell_type": "markdown",
   "id": "748dd333-328c-4b3e-be58-a71b396fdc92",
   "metadata": {},
   "source": [
    "## Asking LLMs to tell a joke\n",
    "\n",
    "It turns out that LLMs don't do a great job of telling jokes! Let's compare a few models - let me know what you think in the chat.\n",
    "Later we will be putting LLMs to better use!\n",
    "\n",
    "### What information is included in the API\n",
    "\n",
    "Typically we'll pass to the API:\n",
    "- The name of the model that should be used\n",
    "- A system message that gives overall context for the role the LLM is playing\n",
    "- A user message that provides the actual prompt\n",
    "\n",
    "There are other parameters that can be used, including *temperature* which is typically between 0 and 1; higher for more random output; lower for more focused and deterministic.\n"
   ]
  },
  {
   "cell_type": "code",
   "execution_count": null,
   "id": "bdfc7248-ba02-4e00-9479-9435ec76721d",
   "metadata": {},
   "outputs": [],
   "source": [
    "system_message = \"You are an assistant that is great at telling jokes\"\n",
    "user_prompt = \"Tell a light-hearted joke for a room full of data scientists\""
   ]
  },
  {
   "cell_type": "code",
   "execution_count": null,
   "id": "7e10bd8f-98c0-4379-b69b-f1607ef257d0",
   "metadata": {},
   "outputs": [],
   "source": [
    "prompts = [\n",
    "    {\"role\": \"system\", \"content\": system_message},\n",
    "    {\"role\": \"user\", \"content\": user_prompt}\n",
    "  ]"
   ]
  },
  {
   "cell_type": "code",
   "execution_count": null,
   "id": "61a26c37-36a3-47d9-91ad-56c7c2489a96",
   "metadata": {},
   "outputs": [],
   "source": [
    "# GPT-3.5-Turbo\n",
    "\n",
    "completion = gpt.chat.completions.create(model='gpt-3.5-turbo', messages=prompts)\n",
    "print(completion.choices[0].message.content)"
   ]
  },
  {
   "cell_type": "code",
   "execution_count": null,
   "id": "9f5b71af-f193-4e53-b633-2c546f518dff",
   "metadata": {},
   "outputs": [],
   "source": [
    "prompts = [\n",
    "    {\"role\": \"system\", \"content\": system_message},\n",
    "    {\"role\": \"user\", \"content\": user_prompt},\n",
    "    {\"role\": \"assistant\", \"content\": \"Why did the statistician bring a ladder to the bar?\\n\\nBecause he heard the drinks were on the house!\"},\n",
    "    {\"role\": \"user\", \"content\": \"Can you explain why that joke is relevant to Data Scientists?\"}\n",
    "  ]\n",
    "completion = gpt.chat.completions.create(model='gpt-3.5-turbo', messages=prompts)\n",
    "print(completion.choices[0].message.content)"
   ]
  },
  {
   "cell_type": "code",
   "execution_count": null,
   "id": "a66e6861-1b58-4779-b525-5925a9aea3b7",
   "metadata": {},
   "outputs": [],
   "source": [
    "# GPT-4o-mini\n",
    "# Temperature setting controls creativity\n",
    "\n",
    "completion = gpt.chat.completions.create(\n",
    "    model='gpt-4o-mini',\n",
    "    messages=prompts,\n",
    "    temperature=0.7\n",
    ")\n",
    "print(completion.choices[0].message.content)"
   ]
  },
  {
   "cell_type": "code",
   "execution_count": null,
   "id": "e5d6e3d5-394d-43e6-b911-ef9a437621eb",
   "metadata": {},
   "outputs": [],
   "source": [
    "# GPT-4o\n",
    "\n",
    "completion = gpt.chat.completions.create(\n",
    "    model='gpt-4o',\n",
    "    messages=prompts,\n",
    "    temperature=0.7\n",
    ")\n",
    "print(completion.choices[0].message.content)"
   ]
  },
  {
   "cell_type": "code",
   "execution_count": null,
   "id": "c832443b-8051-426f-a787-05f6f65ec84a",
   "metadata": {},
   "outputs": [],
   "source": [
    "# Claude 3.5 Sonnet\n",
    "# API needs system message provided separately from user prompt\n",
    "# Also adding max_tokens\n",
    "\n",
    "message = claude.messages.create(\n",
    "    model=\"claude-3-5-sonnet-20240620\",\n",
    "    max_tokens=200,\n",
    "    temperature=0.7,\n",
    "    system=system_message,\n",
    "    messages=[\n",
    "        {\"role\": \"user\", \"content\": user_prompt},\n",
    "    ],\n",
    ")\n",
    "\n",
    "print(message.content[0].text)"
   ]
  },
  {
   "cell_type": "code",
   "execution_count": null,
   "id": "8d8d0600-ab86-49c5-b7a4-0f3c4ee5a654",
   "metadata": {},
   "outputs": [],
   "source": [
    "# Claude 3.5 Sonnet again\n",
    "# Now let's add in streaming back results\n",
    "\n",
    "result = claude.messages.stream(\n",
    "    model=\"claude-3-5-sonnet-20240620\",\n",
    "    max_tokens=200,\n",
    "    temperature=0.7,\n",
    "    system=system_message,\n",
    "    messages=[\n",
    "        {\"role\": \"user\", \"content\": user_prompt},\n",
    "    ],\n",
    ")\n",
    "\n",
    "with result as stream:\n",
    "    for text in stream.text_stream:\n",
    "            print(text, end=\"\", flush=True)"
   ]
  },
  {
   "cell_type": "code",
   "execution_count": null,
   "id": "fefdcb1e-8b5e-4239-b96c-278fd61c46bb",
   "metadata": {},
   "outputs": [],
   "source": [
    "# Gemini\n",
    "\n",
    "response = gemini.generate_content(user_prompt)\n",
    "print(response.text)"
   ]
  },
  {
   "cell_type": "code",
   "execution_count": null,
   "id": "6dd9e82c-96a5-4480-aeb4-3a79ac919a24",
   "metadata": {},
   "outputs": [],
   "source": [
    "# To be serious! GPT-4o-mini with the original question\n",
    "\n",
    "prompts = [\n",
    "    {\"role\": \"system\", \"content\": \"You are a helpful assistant\"},\n",
    "    {\"role\": \"user\", \"content\": \"How do I decide if a business problem is suitable for an LLM solution?\"}\n",
    "  ]"
   ]
  },
  {
   "cell_type": "code",
   "execution_count": null,
   "id": "bb6967eb-d026-4d26-8341-d8fb2a9034ae",
   "metadata": {},
   "outputs": [],
   "source": [
    "# Let's have it stream back results\n",
    "\n",
    "stream = gpt.chat.completions.create(\n",
    "    model='gpt-4o-mini',\n",
    "    messages=prompts,\n",
    "    temperature=0.7,\n",
    "    stream=True\n",
    ")\n",
    "\n",
    "for chunk in stream:\n",
    "    delta = chunk.choices[0].delta.content or ''\n",
    "    print(delta, end='')"
   ]
  },
  {
   "cell_type": "code",
   "execution_count": null,
   "id": "52d9e2b6-41a3-4b9c-be50-647e6ad83b5c",
   "metadata": {},
   "outputs": [],
   "source": [
    "# Did you notice it responded in markdown? We can show that nicely:\n",
    "\n",
    "stream = gpt.chat.completions.create(\n",
    "    model='gpt-4o',\n",
    "    messages=prompts,\n",
    "    temperature=0.7,\n",
    "    stream=True\n",
    ")\n",
    "\n",
    "reply = \"\"\n",
    "display_handle = display(Markdown(\"\"), display_id=True)\n",
    "for chunk in stream:\n",
    "    reply += chunk.choices[0].delta.content or ''\n",
    "    reply = reply.replace(\"```\",\"\").replace(\"markdown\",\"\")\n",
    "    update_display(Markdown(reply), display_id=display_handle.display_id)"
   ]
  },
  {
   "cell_type": "code",
   "execution_count": null,
   "id": "82dbe4b9-c826-43d7-a598-61efefb637eb",
   "metadata": {},
   "outputs": [],
   "source": [
    "# And just to show you how easy it is: let's generate an image\n",
    "\n",
    "from IPython.display import Image, display\n",
    "import base64\n",
    "\n",
    "response = gpt.images.generate(\n",
    "  model=\"dall-e-3\",\n",
    "  prompt=f\"A photorealistic 3d image that represents the power of a Frontier LLM in solving real business use cases\",\n",
    "  size=\"1024x1024\",\n",
    "  quality=\"standard\",\n",
    "  n=1,\n",
    "  response_format=\"b64_json\"\n",
    ")\n",
    "\n",
    "# Extract the Base64 image data from the response\n",
    "image_base64 = response.data[0].b64_json\n",
    "\n",
    "# Decode the Base64 string into bytes\n",
    "image_data = base64.b64decode(image_base64)\n",
    "\n",
    "# Display the image in the notebook\n",
    "display(Image(image_data))"
   ]
  },
  {
   "cell_type": "code",
   "execution_count": null,
   "id": "c22df240-0717-4cd7-a340-de1874ce9c0f",
   "metadata": {},
   "outputs": [],
   "source": [
    "response = gpt.images.generate(\n",
    "  model=\"dall-e-3\",\n",
    "  prompt=f\"A vibrant, pop-art style image that represents the power of a Frontier LLM in solving real business use cases\",\n",
    "  size=\"1024x1024\",\n",
    "  quality=\"standard\",\n",
    "  n=1,\n",
    "  response_format=\"b64_json\"\n",
    ")\n",
    "\n",
    "# Extract the Base64 image data from the response\n",
    "image_base64 = response.data[0].b64_json\n",
    "\n",
    "# Decode the Base64 string into bytes\n",
    "image_data = base64.b64decode(image_base64)\n",
    "\n",
    "# Display the image in the notebook\n",
    "display(Image(image_data))"
   ]
  },
  {
   "cell_type": "markdown",
   "id": "3b79b8fb-6c38-4034-b154-0a3f79e0572b",
   "metadata": {},
   "source": [
    "## Recap: first we tried 6 Frontier LLMs through their chat interfaces\n",
    "## Then in this notebook we called Cloud APIs\n",
    "## Now try the 3rd way to use LLMs - direct inference of Open Source Models with HuggingFace\n",
    "\n",
    "Visit this Google Colab notebook: https://colab.research.google.com/drive/1CRgX6RVqnWZDexXLACbq91pX2I7O7Swu?usp=sharing"
   ]
  },
  {
   "cell_type": "code",
   "execution_count": null,
   "id": "d638ef6f-3a72-4520-bb0d-74989f3e837b",
   "metadata": {},
   "outputs": [],
   "source": []
  }
 ],
 "metadata": {
  "kernelspec": {
   "display_name": "Python 3 (ipykernel)",
   "language": "python",
   "name": "python3"
  },
  "language_info": {
   "codemirror_mode": {
    "name": "ipython",
    "version": 3
   },
   "file_extension": ".py",
   "mimetype": "text/x-python",
   "name": "python",
   "nbconvert_exporter": "python",
   "pygments_lexer": "ipython3",
   "version": "3.11.9"
  }
 },
 "nbformat": 4,
 "nbformat_minor": 5
}
