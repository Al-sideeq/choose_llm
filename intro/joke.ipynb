{
 "cells": [
  {
   "cell_type": "markdown",
   "id": "c57b398b-3412-4b1b-ba17-b4e0a233e602",
   "metadata": {},
   "source": [
    "## Using the leading Frontier LLMs via their APIs\n",
    "\n",
    "### Setting up your keys\n",
    "\n",
    "If you haven't done so already, you'll need to create API keys from OpenAI, Anthropic and Google\n",
    "\n",
    "For OpenAI, visit https://openai.com/api/\n",
    "For Anthropic, visit https://console.anthropic.com/\n",
    "For Google, visit https://ai.google.dev/gemini-api\n",
    "\n",
    "When you get your API keys, you need to set them as environment variables, such as described in the quickstart here:\n",
    "https://platform.openai.com/docs/quickstart\n",
    "\n",
    "Or create a file called .env in this project root directory, and set your keys there:\n",
    "```\n",
    "OPENAI_API_KEY=xxxx\n",
    "ANTHROPIC_API_KEY=xxxx\n",
    "GOOGLE_API_KEY=xxxx\n",
    "````"
   ]
  },
  {
   "cell_type": "code",
   "execution_count": null,
   "id": "6d259d97-5061-43af-a641-3088c4df8106",
   "metadata": {},
   "outputs": [],
   "source": [
    "# imports\n",
    "\n",
    "import os\n",
    "from dotenv import load_dotenv\n",
    "from openai import OpenAI\n",
    "import google.generativeai\n",
    "import anthropic"
   ]
  },
  {
   "cell_type": "code",
   "execution_count": null,
   "id": "4c5f0ff9-75ff-4d81-81c7-c36a05511151",
   "metadata": {},
   "outputs": [],
   "source": [
    "# Load environment variables in a file called .env\n",
    "\n",
    "load_dotenv()"
   ]
  },
  {
   "cell_type": "code",
   "execution_count": null,
   "id": "a9973031-b06f-4718-8884-dfa458707e7d",
   "metadata": {},
   "outputs": [],
   "source": [
    "# Connect to OpenAI, Anthropic and Google\n",
    "\n",
    "gpt = OpenAI()\n",
    "claude = anthropic.Anthropic()\n",
    "google.generativeai.configure()\n",
    "gemini = google.generativeai.GenerativeModel('gemini-pro')"
   ]
  },
  {
   "cell_type": "code",
   "execution_count": null,
   "id": "61a26c37-36a3-47d9-91ad-56c7c2489a96",
   "metadata": {},
   "outputs": [],
   "source": [
    "# GPT-3.5\n",
    "# Temperature is between 0 and 2; higher for more random output; lower for more focused and deterministic.\n",
    "\n",
    "completion = gpt.chat.completions.create(\n",
    "    model='gpt-3.5-turbo',\n",
    "    messages=[\n",
    "    {\"role\": \"system\", \"content\": \"You are great at telling jokes\"},\n",
    "    {\"role\": \"user\", \"content\": \"Tell a light joke for a room full of data scientists\"}\n",
    "  ],\n",
    "    temperature=1.0,\n",
    ")\n",
    "print(completion.choices[0].message.content)"
   ]
  },
  {
   "cell_type": "code",
   "execution_count": null,
   "id": "a66e6861-1b58-4779-b525-5925a9aea3b7",
   "metadata": {},
   "outputs": [],
   "source": [
    "# GPT-4\n",
    "\n",
    "completion = gpt.chat.completions.create(\n",
    "    model='gpt-4-turbo',\n",
    "    messages=[\n",
    "    {\"role\": \"system\", \"content\": \"You are great at telling jokes\"},\n",
    "    {\"role\": \"user\", \"content\": \"Tell a light joke for a room full of data scientists\"}\n",
    "  ],\n",
    "    temperature=1.0\n",
    ")\n",
    "print(completion.choices[0].message.content)"
   ]
  },
  {
   "cell_type": "code",
   "execution_count": null,
   "id": "e5d6e3d5-394d-43e6-b911-ef9a437621eb",
   "metadata": {},
   "outputs": [],
   "source": [
    "# GPT-4o\n",
    "\n",
    "completion = gpt.chat.completions.create(\n",
    "    model='gpt-4o',\n",
    "    messages=[\n",
    "    {\"role\": \"system\", \"content\": \"You are great at telling jokes\"},\n",
    "    {\"role\": \"user\", \"content\": \"Tell a light joke for a room full of data scientists\"}\n",
    "  ],\n",
    "    temperature=1.0\n",
    ")\n",
    "print(completion.choices[0].message.content)"
   ]
  },
  {
   "cell_type": "code",
   "execution_count": null,
   "id": "c832443b-8051-426f-a787-05f6f65ec84a",
   "metadata": {},
   "outputs": [],
   "source": [
    "# Claude\n",
    "\n",
    "message = claude.messages.create(\n",
    "    model=\"claude-3-opus-20240229\",\n",
    "    max_tokens=200,\n",
    "    temperature=1.0,\n",
    "    system=\"You are great at telling jokes\",\n",
    "    messages=[\n",
    "        {\"role\": \"user\", \"content\": \"Tell a light joke for a room full of data scientists\"},\n",
    "    ],\n",
    ")\n",
    "\n",
    "print(message.content[0].text)"
   ]
  },
  {
   "cell_type": "code",
   "execution_count": null,
   "id": "fefdcb1e-8b5e-4239-b96c-278fd61c46bb",
   "metadata": {},
   "outputs": [],
   "source": [
    "# Gemini\n",
    "\n",
    "response = gemini.generate_content(\"Tell a light joke for a room full of data scientists\")\n",
    "print(response.text)"
   ]
  },
  {
   "cell_type": "code",
   "execution_count": null,
   "id": "bb6967eb-d026-4d26-8341-d8fb2a9034ae",
   "metadata": {},
   "outputs": [],
   "source": []
  }
 ],
 "metadata": {
  "kernelspec": {
   "display_name": "Python 3 (ipykernel)",
   "language": "python",
   "name": "python3"
  },
  "language_info": {
   "codemirror_mode": {
    "name": "ipython",
    "version": 3
   },
   "file_extension": ".py",
   "mimetype": "text/x-python",
   "name": "python",
   "nbconvert_exporter": "python",
   "pygments_lexer": "ipython3",
   "version": "3.9.6"
  }
 },
 "nbformat": 4,
 "nbformat_minor": 5
}
