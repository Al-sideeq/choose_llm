{
 "cells": [
  {
   "cell_type": "markdown",
   "id": "ea0e59ce-09f2-40d6-a614-19af338f21cf",
   "metadata": {},
   "source": [
    "## Project 1: Resume Parser\n",
    "\n",
    "### A simple example of a commercial use case: parsing and summarizing a resume\n",
    "\n",
    "We will Gradio to quickly prototype this use of the OpenAI API"
   ]
  },
  {
   "cell_type": "code",
   "execution_count": null,
   "id": "472dedc7-38a6-4512-8128-3438978ec25f",
   "metadata": {},
   "outputs": [],
   "source": [
    "# imports\n",
    "\n",
    "import os\n",
    "from dotenv import load_dotenv\n",
    "import openai\n",
    "import json\n",
    "from openai import OpenAI\n",
    "import gradio as gr"
   ]
  },
  {
   "cell_type": "code",
   "execution_count": null,
   "id": "56aacb93-12b9-457b-998b-99f803e50b4a",
   "metadata": {},
   "outputs": [],
   "source": [
    "# constants\n",
    "\n",
    "MODEL = \"gpt-4o\""
   ]
  },
  {
   "cell_type": "code",
   "execution_count": null,
   "id": "536c7fd1-a559-42a7-abd2-f6484a122431",
   "metadata": {},
   "outputs": [],
   "source": [
    "# Load environment variables in a file called .env\n",
    "\n",
    "load_dotenv()"
   ]
  },
  {
   "cell_type": "code",
   "execution_count": null,
   "id": "5c5584dd-19d4-4c9f-83ef-58d947e82d74",
   "metadata": {},
   "outputs": [],
   "source": [
    "# Load sample HR-JSON file\n",
    "\n",
    "with open('sample.json', 'r') as f:\n",
    "    sample = f.read()"
   ]
  },
  {
   "cell_type": "code",
   "execution_count": null,
   "id": "c72a69f5-182b-417b-b486-916c547e6aaf",
   "metadata": {},
   "outputs": [],
   "source": [
    "# Also load my resume as an example\n",
    "\n",
    "with open('my_resume.txt', 'r') as f:\n",
    "    me = f.read()"
   ]
  },
  {
   "cell_type": "code",
   "execution_count": null,
   "id": "392c9d02-f21b-44e8-b006-a59c71425fc9",
   "metadata": {},
   "outputs": [],
   "source": [
    "# Create the OpenAI client\n",
    "\n",
    "client = OpenAI()"
   ]
  },
  {
   "cell_type": "code",
   "execution_count": null,
   "id": "e68f0329-e3c1-47ed-9979-d3d51eb76299",
   "metadata": {},
   "outputs": [],
   "source": [
    "# Create the prompt, comprising of system instructions, and a specific request\n",
    "\n",
    "instructions = f\"\"\"You are an assistant that can convert a resume in plain text precisely into the industry standard HR-JSON format.\n",
    "Here is an example of HR-JSON populated for a candidate.\n",
    "HR-JSON elements are optional, so if a section isn't populated in a resume, then it should be omitted in the HR-JSON.\n",
    "Example HR-JSON:\\n{sample}\"\"\"\n",
    "\n",
    "request = \"Please convert this resume to HR-JSON:\\n\""
   ]
  },
  {
   "cell_type": "code",
   "execution_count": null,
   "id": "004b413a-d425-4fb3-9858-35f4d538a705",
   "metadata": {},
   "outputs": [],
   "source": [
    "# Let's try it for my resume\n",
    "\n",
    "result = client.chat.completions.create(\n",
    "          model=MODEL,\n",
    "          messages=[\n",
    "            {\"role\": \"system\", \"content\": instructions},\n",
    "            {\"role\": \"user\", \"content\": request + me}\n",
    "          ],\n",
    "        response_format={ \"type\": \"json_object\" })\n",
    "print(result.choices[0].message.content)"
   ]
  },
  {
   "cell_type": "code",
   "execution_count": null,
   "id": "f399ca33-2eb5-4358-8331-5d2b40b2d56a",
   "metadata": {},
   "outputs": [],
   "source": [
    "# Wrap this in a method\n",
    "\n",
    "def parse(text_resume):\n",
    "    response = client.chat.completions.create(\n",
    "          model=MODEL,\n",
    "          messages=[\n",
    "            {\"role\": \"system\", \"content\": instructions},\n",
    "            {\"role\": \"user\", \"content\": request + text_resume}\n",
    "          ],\n",
    "        response_format={ \"type\": \"json_object\" },\n",
    "        stream=True\n",
    "        )\n",
    "    result = \"\"\n",
    "    for chunk in response:\n",
    "        result += chunk.choices[0].delta.content or \"\"\n",
    "        yield result"
   ]
  },
  {
   "cell_type": "code",
   "execution_count": null,
   "id": "36325f04-3648-4415-b0ee-6ce82c79f654",
   "metadata": {},
   "outputs": [],
   "source": [
    "# Bringing up a view in Gradio is incredibly easy!\n",
    "\n",
    "view = gr.Interface(\n",
    "    fn=parse,\n",
    "    inputs=[gr.Textbox(label=\"Text Resume\", lines=10)],\n",
    "    outputs=[gr.Textbox(label=\"HR-JSON Resume\", lines=10)],\n",
    "    allow_flagging=\"never\"\n",
    ")\n",
    "\n",
    "view.launch()"
   ]
  },
  {
   "cell_type": "code",
   "execution_count": null,
   "id": "3f90f677-c6ed-4650-b731-6e2c59f2f820",
   "metadata": {},
   "outputs": [],
   "source": [
    "# A simple variation to generate a summary of this resume, a very common Gen AI use case\n",
    "\n",
    "instructions = \"\"\"You are an assistant that can create a short summary of a candidate based on their resume.\n",
    "The summary should be 4-5 sentences long and capture their experience and education.\"\"\"\n",
    "\n",
    "request = \"Please summarize this candidate based on their resume:\\n\""
   ]
  },
  {
   "cell_type": "code",
   "execution_count": null,
   "id": "7e03bb27-45b5-48da-b647-9fc50eb146df",
   "metadata": {},
   "outputs": [],
   "source": [
    "# Generate as before\n",
    "\n",
    "def parse(text_resume):\n",
    "    response = client.chat.completions.create(\n",
    "          model=MODEL,\n",
    "          messages=[\n",
    "            {\"role\": \"system\", \"content\": instructions},\n",
    "            {\"role\": \"user\", \"content\": request + text_resume}\n",
    "          ],\n",
    "        stream=True\n",
    "        )\n",
    "    result = \"\"\n",
    "    for chunk in response:\n",
    "        result += chunk.choices[0].delta.content or \"\"\n",
    "        yield result"
   ]
  },
  {
   "cell_type": "code",
   "execution_count": null,
   "id": "0726883b-49fd-4529-aa03-6d9f3aee3943",
   "metadata": {},
   "outputs": [],
   "source": [
    "# And in Gradio again\n",
    "\n",
    "view = gr.Interface(\n",
    "    fn=parse,\n",
    "    inputs=[gr.Textbox(label=\"Text Resume\", lines=10)],\n",
    "    outputs=[gr.Textbox(label=\"Summary\", lines=10)],\n",
    "    allow_flagging=\"never\"\n",
    ")\n",
    "\n",
    "view.launch()"
   ]
  }
 ],
 "metadata": {
  "kernelspec": {
   "display_name": "Python 3 (ipykernel)",
   "language": "python",
   "name": "python3"
  },
  "language_info": {
   "codemirror_mode": {
    "name": "ipython",
    "version": 3
   },
   "file_extension": ".py",
   "mimetype": "text/x-python",
   "name": "python",
   "nbconvert_exporter": "python",
   "pygments_lexer": "ipython3",
   "version": "3.9.6"
  }
 },
 "nbformat": 4,
 "nbformat_minor": 5
}
